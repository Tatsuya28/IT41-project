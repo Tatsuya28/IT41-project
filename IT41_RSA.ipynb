{
  "nbformat": 4,
  "nbformat_minor": 0,
  "metadata": {
    "colab": {
      "provenance": [],
      "include_colab_link": true
    },
    "kernelspec": {
      "name": "python3",
      "display_name": "Python 3"
    },
    "language_info": {
      "name": "python"
    }
  },
  "cells": [
    {
      "cell_type": "markdown",
      "metadata": {
        "id": "view-in-github",
        "colab_type": "text"
      },
      "source": [
        "<a href=\"https://colab.research.google.com/github/Tatsuya28/IT41-project/blob/main/IT41_RSA.ipynb\" target=\"_parent\"><img src=\"https://colab.research.google.com/assets/colab-badge.svg\" alt=\"Open In Colab\"/></a>"
      ]
    },
    {
      "cell_type": "markdown",
      "source": [
        "# **IT41 project: RSA Cryptosystem**\n",
        "\n",
        "Authors: \n",
        "+ Hakan ERASLAN\n",
        "+ Thomas FRIDBLATT\n",
        "+ Jérémie KIMENAU\n",
        "+ Eliséo VARDANEGA"
      ],
      "metadata": {
        "id": "P8g3dK63iT0a"
      }
    },
    {
      "cell_type": "markdown",
      "source": [
        "## **Context**"
      ],
      "metadata": {
        "id": "ycAK3ZZSjSpA"
      }
    },
    {
      "cell_type": "markdown",
      "source": [
        "The RSA cryptography system was invented in 1977 by three mathematicians: Ronald Rivest, Adi Shamir and Leonard Adleman.  \n",
        "RSA is an asynchronous encryption algorithm that we still use a lot in our current systems because of its efficiency and its resistance against hacking (except quantum computing).\n",
        "These three mathematicians wanted to demonstrate that asynchronous cryptography couldn’t work, and they ended up creating RSA, an algorithm based on that principle, that is still largely used nowadays (we estimate that approximatively 300 million programs use the RSA algorithm).\n",
        "\n",
        "<br/>\n",
        "\n",
        "RSA is using the benefits of modular calculations and the difficulty of factoring large prime numbers to find the prime factors necessary to decode the algorithm, which makes it safe to use even in critical systems. It is also relatively easy to understand and to use because it uses simple arithmetic calculus.\n",
        "However, we can find some disadvantages, one of which are the large prime numbers to find (in principle more than 512 bits long by today's standards) for RSA to be secure.\n",
        "\n",
        "<br/>\n",
        "\n",
        "How does RSA work ?\n",
        "\n",
        "```\n",
        "1) Choose 2 very large prime numbers P and Q\n",
        "2) Compute n = PQ\n",
        "3) Compute φ(n) = (p - 1)(q - 1) (Euler's totient function)\n",
        "4) Choose a prime number e such that e is coprime with φ(n)\n",
        "5) Calculate d such that it satifies the congruence : d.e  ≡ 1 mod n\n",
        "```\n",
        "<br/>\n",
        "\n",
        "In RSA, each recipient has 2 different keys used for secure communications:\n",
        "\n",
        "*   A public key used by others to send him an encrypted message which consists of n and e\n",
        "*   A private key made of P, Q and d for him to decrypt the messages he receives\n",
        "\n",
        "\n",
        "<br/>\n",
        "\n",
        "\n",
        "Take Bob and Alice, how do they use these keys to encrypt and decrypt their messages ?\n",
        "\n",
        "- Bob sends his public key ($e_{b}, n_{b}$) to Alice and keeps his private key ($d_{b}, p_{b}, q_{b}$)\n",
        "- Alice sends her public key ($e_{a}, n_{a}$) to Bob and keeps her private key ($d_{a}, p_{a}, q_{a}$)\n",
        "\n",
        "<br/>\n",
        "\n",
        "\n",
        "1.   Bob wants to send the message `Please, give me the answers of the Spring 2023 IT41 Midterm exam !` to Alice and wants to make sure it is secret and only Alice can decrypt the message.  \n",
        "Bob converts the message to its numerical equivalent and calls it `X`. Then he calculates the encrypted message `Y` by using the public key of Alice.\n",
        "\n",
        "\\begin{equation*}\n",
        "Y = X^{e_{a}} \\mod{n_{a}}\n",
        "\\end{equation*}\n",
        "\n",
        "2. Alice receives the message from Bob. She uses her private key, that she and only she knows to decrypt `Y` and get the initial message `X`.\n",
        "\n",
        "\\begin{equation*}\n",
        "X = Y^{d_{a}} \\mod{n_{a}}\n",
        "\\end{equation*}\n",
        "\n",
        "<br/>\n",
        "\n",
        "Now, we take Eve who wants to know what Bob told Alice, what would happen if she was able to spy on their communication and also read the message `Y` ?\n",
        "\n",
        "RSA is an encryption that is difficult to brake so Eve will have a really hard time finding `X`.  \n",
        "\n",
        "This is beacuse RSA is based on the fact that finding $d_{a}$ using `Y` is a difficult very difficult operation. It would require factoring  $n_{a}$ as the product of two prime numbers which is nearly impossible when working with very huge numbers (512 bits long today).  \n",
        "\n",
        "This problem is also known as the discrete logarithm problem and it is believed to be computationally infeasible as there is no known algorithm that can solve it in polynomial time.\n",
        "\n"
      ],
      "metadata": {
        "id": "I_DEMU6eHgw6"
      }
    },
    {
      "cell_type": "markdown",
      "source": [
        "## **1. How to compute large primes ?**\n",
        "\n"
      ],
      "metadata": {
        "id": "BUDLIR7PLdcD"
      }
    },
    {
      "cell_type": "markdown",
      "source": [
        "The first approach uses the definition of what a prime number is : `a whole number greater than 1 that cannot be divided by any whole number other than itself and 1` ( 2, 3, 5, 7, 11 etc...).\n",
        "\n",
        "<br />\n",
        "\n",
        "We can use the \"Sieve of Eratosthenes\", a Greek mathematician from 2nd century BC, to generate a list of prime numbers.  \n",
        "In our case, we do not need a list, but simply two single prime numbers.\n",
        "\n",
        "<br />\n",
        "\n",
        "\n",
        "One could proceed like this to generate a random prime number:\n",
        "\n",
        "\n",
        "*   Pick a random number n (bigger than $10^{60}$)\n",
        "*   Check every odd number from 3 to $\\sqrt{n}$ and check if it divides n. \n",
        "\n",
        "\n",
        "\n",
        "\n"
      ],
      "metadata": {
        "id": "-Z4vva7HLhPL"
      }
    },
    {
      "cell_type": "code",
      "source": [
        "import random\n",
        "import math\n",
        "\n",
        "\n",
        "def is_prime(n):\n",
        "    \"\"\"Checks if n is a prime number\"\"\"\n",
        "    if n == 2 or n == 3:\n",
        "        return True\n",
        "    if n < 2 or n % 2 == 0:\n",
        "        return False\n",
        "    for i in range(3, int(math.sqrt(n)) + 1, 2):\n",
        "        if n % i == 0:\n",
        "            return False\n",
        "    return True\n",
        "\n",
        "def generate_prime(n_digits):\n",
        "    \"\"\"Generates random numbers between 10^n_digits and 10^(n_digits+1) and returns it if it is prime\"\"\"\n",
        "    while True:\n",
        "        n = random.randint(10**n_digits, 10**(n_digits+1))\n",
        "        if is_prime(n):\n",
        "            return n\n"
      ],
      "metadata": {
        "id": "q892pK-0LjKR"
      },
      "execution_count": null,
      "outputs": []
    },
    {
      "cell_type": "markdown",
      "source": [
        "We can very easily check that `is_prime(n)` is linear with respect to `√n`, namely `T(is_prime(n)) ∈ O(√n)`. The `generate_prime()` function's complexity would be at best `O(√n)` if the first number picked is prime. The average and worst complexity is `O(s√n)` where `s` corresponds to the amount of numbers picked that were not prime.\n",
        "\n",
        "</br>\n",
        "\n",
        "Now, imagine that the computer can run `N` operations per second. Assuming $N = 10^{9}$, how fast could could it generate a prime number in the best-case scenario ?\n",
        "\n",
        "</br>\n",
        "\n",
        "\n",
        "\\begin{align*}\n",
        "\\text{generate_prime} \\in \\mathcal{O}(\\sqrt{n}) &\\Leftrightarrow T(\\text{generate_prime}(N)) \\leq c\\sqrt{N} \\\\\n",
        "&\\Leftrightarrow c = \\frac{T(\\text{generate_prime}(N))}{\\sqrt{N}} \\\\\n",
        "&T(\\text{generate_prime}(n)) = \\frac{T(\\text{generate_prime}(N))}{\\sqrt{N}} \\times \\sqrt{n} \\\\\n",
        "&\\Leftrightarrow T(\\text{generate_prime}(n)) = \\frac{1}{10^9} \\times \\sqrt{10^{60}} = 10^{21} \\text{s} \\approx 317{,}097{,}919{,}837{,}646 \\text{ years}\n",
        "\\end{align*}\n",
        "\n",
        "</br>\n",
        "\n",
        "This is equal to 23145 times the age of the universe so this clearly is not a viable strategy to generate a prime number this big.  \n",
        "\n",
        "</br>\n",
        "\n",
        "This is where Pierre de Fermat, a lawyer and French mathematician of the 17th century comes into play.\n",
        "\n",
        "What we are interested in is `Fermat's little theorem` which states that for any given integer $a$, if $p$ is prime, then the following statement is true:\n",
        "$$a^{p-1} \\equiv 1 \\pmod{p}$$\n",
        "\n",
        "\n",
        "</br>\n",
        "\n",
        "\n",
        "This primality test is used to generate prime numbers. However, it can also give us numbers that are called `pseudo-prime` numbers.  \n",
        "Pseudo-prime numbers are numbers that behave similarly to prime numbers with respect to certain tests. Because we only need prime numbers for RSA, we can  eliminate pseudo-primes by using multiple tests where for example we check if the generated number satisfies Fermat's little theorem for different values of the base a.\n",
        "\n",
        "\n",
        "</br>\n",
        "  \n",
        "In python, we can use the following code to implement this approach with a = 2 and a = 3. It uses a naive and unoptimized way of calculating a^n. We will see later that it causes performance issues.\n"
      ],
      "metadata": {
        "id": "ovrUqXhPLpL7"
      }
    },
    {
      "cell_type": "code",
      "source": [
        "#Naive powering algorithm\n",
        "def power(a,n):\n",
        "    res = 1\n",
        "    for i in range(n):\n",
        "        res = res*a\n",
        "    return res\n",
        "\n",
        "def generate_prime_little_Fermat(n_digits):\n",
        "    a1 = 2\n",
        "    a2 = 3\n",
        "    while True:\n",
        "        p = random.randint(10**n_digits, 10**(n_digits+1)) #Generate a random integer between min and max\n",
        "        if (power(a1,p-1)%p)==(power(a2,p-1)%p)==1: #We check that a^(p-1) is equal to 1 mod p\n",
        "            return p"
      ],
      "metadata": {
        "id": "pm75e1WlLtj7"
      },
      "execution_count": null,
      "outputs": []
    },
    {
      "cell_type": "markdown",
      "source": [
        "Technically, this is the required algorithm. However, if p is a huge number ($p >{10^{60}}$), the computer cannot run the calculations as `a^(p-1)` would be excruciatingly long to compute.\n",
        "\n",
        "</br>\n",
        "\n",
        "Instead of using `power(a,p-1)%p` to check if $a^{p-1} \\equiv 1 \\mod{p}$, we can use what is called the `Right-to-left binary method` described by Bruce Schneier in 1993 in *Applied Cryptography*.  \n",
        "\n",
        "The algorithm works as follows:\n",
        "\n",
        "*   Convert the exponent to binary representation.\n",
        "*   Start with the least significant bit of the binary representation.\n",
        "*   If the current bit is 1, multiply the result by the base and take the result modulo the modulus.\n",
        "*   Square the base and take the result modulo the modulus.\n",
        "*   Move to the next bit in the binary representation.\n",
        "*   Repeat steps 3-5 until all bits have been processed."
      ],
      "metadata": {
        "id": "dGIN-oY9Lv7T"
      }
    },
    {
      "cell_type": "code",
      "source": [
        "def pow_mod(x, y, z):\n",
        "    number = 1\n",
        "    while y != 0:\n",
        "        if y % 2 == 1: #Check the least significant bit of the binary representation.\n",
        "            number = (number*x)%z\n",
        "        y = y // 2 #Shift to the next bit by integer division.\n",
        "        x = (x*x)%z\n",
        "    return number"
      ],
      "metadata": {
        "id": "03oK3OMLLyIT"
      },
      "execution_count": null,
      "outputs": []
    },
    {
      "cell_type": "markdown",
      "source": [
        "Let's prove the correctness of this algorithm:\n",
        "\n",
        "------------Algorithm Convergence-------------\n",
        "1. The function `pow_mod(x, y, z)` returns an integer between 0 and z-1, inclusive, for any non-zero values of x, y, and z. This is because during the calculations, the variable `number` is always an integer between 1 and z-1, inclusive, since we calculate products modulo z.\n",
        "\n",
        "2. The `while` loop terminates after a finite number of iterations. This is because at each iteration, the variable y is divided by 2 using integer division, so y strictly decreases until it reaches 0.\n",
        "\n",
        "------------Loop Invariant-------------\n",
        "\n",
        "`Initialization:`</br>\n",
        "For y = 0, we do not enter the loop, mod_pow(x,y,z) = 1 and x^0 mod z = 1, so it is correct.  \n",
        "For y = 1, we enter the loop, mod_pow(x,1,z) = x mod z = x^1 mod z = x mod z, which is also correct.  \n",
        "For y = 2, we enter the loop, $(x,2,z) = (x\\ mod\\ z)*x\\ mod\\ z = x * x\\ mod\\ z = x^2\\ mod\\ z$, which is also correct (ac mod n = bc mod n, multiplication works in modular arithmetic).\n",
        "\n",
        "</br>\n",
        "\n",
        "`Induction hypothesis:` </br>\n",
        "mod_pow(x,k,z) = x^k mod z\n",
        "Assuming the property is true for k, let us show that it is true for k+1:\n",
        "Two cases:\n",
        "\n",
        "</br>\n",
        "\n",
        "\n",
        "* If $k+1$ is even: $k+1=2j$, then\n",
        "\n",
        "\\begin{align*}\n",
        "\\text{mod_pow}(x,k+1,z) &= \\text{mod_pow}(x,2j,z) \\\\\n",
        "&\\stackrel{IH}{=} (x^{2j}) \\bmod z \\\\\n",
        "&= (x^j)^2 \\bmod z \\\\\n",
        "&= (x^j \\bmod z)^2 \\bmod z \\\\\n",
        "&= \\text{mod_pow}(x,j,z)^2 \\bmod z \\\\\n",
        "&= \\text{mod_pow}(\\text{mod_pow}(x,j,z),2,z).\n",
        "\\end{align*}\n",
        "\n",
        "</br>\n",
        "\n",
        "And then we have mod_pow(x,j,z) correctly calculated for j = 0 to k and mod_pow(mod_pow(x,j,z),2,z) correctly calculated too according to the initialization.\n",
        "\n",
        "</br>\n",
        "\n",
        "If $k+1$ is odd: $k+1=2j+1$, then\n",
        "\\begin{align*}\n",
        "\\text{mod_pow}(x,k+1,z) &= \\text{mod_pow}(x,2j+1,z) \\\\\n",
        "&\\stackrel{IH}{=} x^{2j+1} \\bmod z \\\\\n",
        "&= (x^{2j} \\bmod z) \\cdot x \\bmod z \\\\\n",
        "&= (((x^j \\bmod z)^2 \\bmod z) \\cdot x \\bmod z) \\\\\n",
        "&= \\text{mod_pow}(\\text{mod_pow}(x,j,z),2,z) \\cdot x \\bmod z.\n",
        "\\end{align*}\n",
        "\n",
        "</br>\n",
        "\n",
        "Here, we again have $\\text{mod_pow}(\\text{mod_pow}(x,j,z),2,z)$ calculated correctly for the same reasons as before. We just need to show that $\\text{mod_pow}(\\text{mod_pow}(x,j,z),2,z) \\cdot x \\bmod z$ is also correctly calculated. \n",
        "\n",
        "Since multiplication works in modular arithmetic, we have\n",
        "\\begin{align*}\n",
        "\\text{mod_pow}(\\text{mod_pow}(x,j,z),2,z) \\cdot x \\bmod z = \\text{mod_pow}(\\text{mod_pow}(x,j,z),2,z) \\cdot \\text{mod_pow}(x,1,z) \\\n",
        "&= \\text{mod_pow}(\\text{mod_pow}(x,j,z) \\cdot x, 1, z).\n",
        "\\end{align*}\n",
        "\n",
        "This is also correctly calculated according to the initialization. Therefore, the property holds for all $y \\in \\mathbb{N}$.\n",
        "\n",
        "</br>\n",
        "\n",
        "Therefore, the property is true for all y in $\\mathbb{N}$.\n",
        "\n",
        "-------------------------\n",
        "\n",
        "What is the complexity of the algorithm ?\n",
        "\n",
        "The while loop stops when y = 0. Each iteration, y is divided (using integer division) by 2 and because y is an integer, it will reach 0 at some point.\n",
        "From this we conclude that the algorithm is logarithmic with respect to the exponent y. $ T(pow\\_mod) ∈ Θ(log(y)) $.\n",
        "\n",
        "-------------------------"
      ],
      "metadata": {
        "id": "BPuKuls3L2_r"
      }
    },
    {
      "cell_type": "markdown",
      "source": [
        "By using the fast modular exponentiation and Fermat's Little Theorem, we can rewrite our final algorithm as:"
      ],
      "metadata": {
        "id": "wzU_RVNsCouI"
      }
    },
    {
      "cell_type": "code",
      "source": [
        "def generate_prime_little_Fermat_pow_mod(n_digits):\n",
        "    a_values = [2,3,5,7,11] #Adding many tests so that we can eliminate pseudo-primes\n",
        "    while True:\n",
        "        p = random.randint(10**n_digits, 10**(n_digits+1))\n",
        "        for k in a_values:\n",
        "          if not(pow_mod(k,p-1,p)==1):\n",
        "            continue\n",
        "          else:\n",
        "            return p"
      ],
      "metadata": {
        "id": "bh_nA4F0Cm4K"
      },
      "execution_count": null,
      "outputs": []
    },
    {
      "cell_type": "markdown",
      "source": [
        "Let's benchmark the function that uses Fermat's Little Theorem to see how efficient it is:"
      ],
      "metadata": {
        "id": "41yGxkS7Aci4"
      }
    },
    {
      "cell_type": "code",
      "source": [
        "import matplotlib.pyplot as plt\n",
        "import time \n",
        "\n",
        "# Benchmark of the three functions to generate prime numbers\n",
        "naive_generation = []\n",
        "little_Fermat = []\n",
        "little_Fermat_pow_mod = []\n",
        "\n",
        "for number in range(0, 15):\n",
        "    start_time = time.time()\n",
        "    generate_prime(number)\n",
        "    end_time = time.time()\n",
        "    naive_time = end_time - start_time\n",
        "    naive_generation.append(naive_time)\n",
        "\n",
        "    if number < 5:\n",
        "        start_time = time.time()\n",
        "        generate_prime_little_Fermat(number)\n",
        "        end_time = time.time()\n",
        "        little_Fermat_time = end_time - start_time\n",
        "        little_Fermat.append(little_Fermat_time)\n",
        "\n",
        "    start_time = time.time()\n",
        "    generate_prime_little_Fermat_pow_mod(number)\n",
        "    end_time = time.time()\n",
        "    little_Fermat_pow_mod_time = end_time - start_time\n",
        "    little_Fermat_pow_mod.append(little_Fermat_pow_mod_time)\n",
        "    print(f\"Size of the generated prime 10^{number}: Naive generation time: {naive_time:.6f}, Little Fermat time: {little_Fermat_time:.6f}, Little Fermat with fast modular exponentiation: {little_Fermat_pow_mod_time:.6f}\")\n",
        "\n",
        "# Plot the execution times\n",
        "plt.plot(range(0, 15), naive_generation, label=\"Naive generation\")\n",
        "plt.plot(range(0, 5), little_Fermat, label=\"Little Fermat\")\n",
        "plt.plot(range(0, 15), little_Fermat_pow_mod, label=\"Little Fermat modular exponentiaition\")\n",
        "plt.xlabel(\"Power of 10\")\n",
        "plt.ylabel(\"Time (seconds)\")\n",
        "plt.title(\"Benchmark of the 3 ways of generating prime numbers\")\n",
        "plt.legend()\n",
        "plt.show()"
      ],
      "metadata": {
        "colab": {
          "base_uri": "https://localhost:8080/",
          "height": 744
        },
        "id": "FNpUEYaSAh5e",
        "outputId": "2b68be7c-d35d-4a3f-db81-c2d79fb5684a"
      },
      "execution_count": null,
      "outputs": [
        {
          "output_type": "stream",
          "name": "stdout",
          "text": [
            "Size of the generated prime 10^0: Naive generation time: 0.000026, Little Fermat time: 0.000021, Little Fermat with fast modular exponentiation: 0.000005\n",
            "Size of the generated prime 10^1: Naive generation time: 0.000022, Little Fermat time: 0.000035, Little Fermat with fast modular exponentiation: 0.000014\n",
            "Size of the generated prime 10^2: Naive generation time: 0.000042, Little Fermat time: 0.001091, Little Fermat with fast modular exponentiation: 0.000067\n",
            "Size of the generated prime 10^3: Naive generation time: 0.000015, Little Fermat time: 0.019016, Little Fermat with fast modular exponentiation: 0.000087\n",
            "Size of the generated prime 10^4: Naive generation time: 0.000051, Little Fermat time: 1.297548, Little Fermat with fast modular exponentiation: 0.000938\n",
            "Size of the generated prime 10^5: Naive generation time: 0.000076, Little Fermat time: 1.297548, Little Fermat with fast modular exponentiation: 0.000596\n",
            "Size of the generated prime 10^6: Naive generation time: 0.000121, Little Fermat time: 1.297548, Little Fermat with fast modular exponentiation: 0.000080\n",
            "Size of the generated prime 10^7: Naive generation time: 0.000280, Little Fermat time: 1.297548, Little Fermat with fast modular exponentiation: 0.000049\n",
            "Size of the generated prime 10^8: Naive generation time: 0.000808, Little Fermat time: 1.297548, Little Fermat with fast modular exponentiation: 0.000375\n",
            "Size of the generated prime 10^9: Naive generation time: 0.002839, Little Fermat time: 1.297548, Little Fermat with fast modular exponentiation: 0.002469\n",
            "Size of the generated prime 10^10: Naive generation time: 0.016395, Little Fermat time: 1.297548, Little Fermat with fast modular exponentiation: 0.001280\n",
            "Size of the generated prime 10^11: Naive generation time: 0.049333, Little Fermat time: 1.297548, Little Fermat with fast modular exponentiation: 0.003619\n",
            "Size of the generated prime 10^12: Naive generation time: 0.169091, Little Fermat time: 1.297548, Little Fermat with fast modular exponentiation: 0.001225\n",
            "Size of the generated prime 10^13: Naive generation time: 0.609015, Little Fermat time: 1.297548, Little Fermat with fast modular exponentiation: 0.000365\n",
            "Size of the generated prime 10^14: Naive generation time: 0.957144, Little Fermat time: 1.297548, Little Fermat with fast modular exponentiation: 0.006174\n"
          ]
        },
        {
          "output_type": "display_data",
          "data": {
            "text/plain": [
              "<Figure size 640x480 with 1 Axes>"
            ],
            "image/png": "[encoded data removed]"
          },
          "metadata": {}
        }
      ]
    },
    {
      "cell_type": "markdown",
      "source": [
        "Well, it seems like using the Little Fermat's theorem (orange line) is slower than using the regular method, even for small n values. This is because we use the naive exponentiation method which has `O(n) complexity.`\n",
        "\n",
        "</br>\n",
        "\n",
        "For bigger n values, using the Little Fermat modular exponentation is considerably faster.\n",
        "\n",
        "</br>\n",
        "\n",
        "Finally, we need to take into consideration the way we generate the number p. This operation has a cost which is proportionnal to how big the number we want to generate is."
      ],
      "metadata": {
        "id": "G4pvLukNA5It"
      }
    },
    {
      "cell_type": "markdown",
      "source": [
        "## **2. Compute n = PQ**"
      ],
      "metadata": {
        "id": "XG8nMbrHFGXn"
      }
    },
    {
      "cell_type": "markdown",
      "source": [
        "Nothing fancy here. We generate P, Q and do the product. A real child's play for the computer (the CPU already has the multiplication operation embedded)."
      ],
      "metadata": {
        "id": "u66XguZwFNke"
      }
    },
    {
      "cell_type": "code",
      "source": [
        "p = generate_prime_little_Fermat_pow_mod(60)\n",
        "q = generate_prime_little_Fermat_pow_mod(60)\n",
        "n = p*q\n",
        "print(p)\n",
        "print(q)\n",
        "print(n)"
      ],
      "metadata": {
        "id": "WDfQdgCcFi_d",
        "colab": {
          "base_uri": "https://localhost:8080/"
        },
        "outputId": "8c62fbdc-ca63-40c5-94b1-a2022c2ad9a9"
      },
      "execution_count": null,
      "outputs": [
        {
          "output_type": "stream",
          "name": "stdout",
          "text": [
            "2979533257739546214054230181046000040689053738549931673043389\n",
            "2666221934937227908610028282314042017844554213372291674861281\n",
            "7944096927660155098903306836573419939496843033938594494598210681521023826131759109531849606251966999882824666733669121309\n"
          ]
        }
      ]
    },
    {
      "cell_type": "markdown",
      "source": [
        "## **3. Compute $ \\Phi(n) = (p - 1)(q - 1) $ (Euler's totient function)**"
      ],
      "metadata": {
        "id": "WGwRT8W7GkPU"
      }
    },
    {
      "cell_type": "code",
      "source": [
        "#Using the numbers generated at the previous step :\n",
        "phi_n = (p-1)*(q-1)\n",
        "print(\"  n  =\", n)\n",
        "print(\"φ(n) =\", phi_n)"
      ],
      "metadata": {
        "id": "LoahoiTqHvhS",
        "colab": {
          "base_uri": "https://localhost:8080/"
        },
        "outputId": "0d838f74-41e7-4ef9-aea0-53cdc68485f3"
      },
      "execution_count": null,
      "outputs": [
        {
          "output_type": "stream",
          "name": "stdout",
          "text": [
            "  n  = 7944096927660155098903306836573419939496843033938594494598210681521023826131759109531849606251966999882824666733669121309\n",
            "φ(n) = 7944096927660155098903306836573419939496843033938594494598205035765831149357636445273386246209908466274872744510321216640\n"
          ]
        }
      ]
    },
    {
      "cell_type": "markdown",
      "source": [
        "We have calculated the first component to find the rest of the public and private keys.  \n",
        "We now need to generate a prime number e that is coprime with $\\Phi(n)$."
      ],
      "metadata": {
        "id": "5EQKvreBH99w"
      }
    },
    {
      "cell_type": "markdown",
      "source": [
        "## **4. Choosing the encryption exponent e**"
      ],
      "metadata": {
        "id": "33_ntkkbJwAW"
      }
    },
    {
      "cell_type": "markdown",
      "source": [
        "The number e is the second part of the public key. It will be used by the sender to encrypt the message using the following formula: \n",
        "\n",
        "\\begin{equation*}\n",
        "Y = X^{e} \\mod{n}\n",
        "\\end{equation*}"
      ],
      "metadata": {
        "id": "xlqI7eGhz32N"
      }
    },
    {
      "cell_type": "markdown",
      "source": [
        "### Using the regular method"
      ],
      "metadata": {
        "id": "yZH1RGfQ18Jw"
      }
    },
    {
      "cell_type": "markdown",
      "source": [
        "Two numbers a and b are coprimes if their Greatest Common Divisor (GCD) is equal to 1.\n",
        "</br>\n",
        "It can be obtained by applying [Euclid's Algorithm](https://en.wikipedia.org/wiki/Euclidean_algorithm) made by the Greek mathematician Euclid who lived 300BC. It can be implemented as follows:"
      ],
      "metadata": {
        "id": "cIa_0QjGKG4d"
      }
    },
    {
      "cell_type": "code",
      "source": [
        "def gcd(a, b):\n",
        "    while b != 0:\n",
        "        t = b\n",
        "        b = a % b\n",
        "        a = t\n",
        "    return a\n",
        "\n",
        "a = 333\n",
        "b = 3\n",
        "print(\"The gcd of\", a, \"and\", b, \"is\", gcd(a,b))"
      ],
      "metadata": {
        "id": "9BL2hO2FuUt9",
        "colab": {
          "base_uri": "https://localhost:8080/"
        },
        "outputId": "a505c0d1-b8a1-4471-a8fc-f80b8b642823"
      },
      "execution_count": null,
      "outputs": [
        {
          "output_type": "stream",
          "name": "stdout",
          "text": [
            "The gcd of 333 and 3 is 3\n"
          ]
        }
      ]
    },
    {
      "cell_type": "markdown",
      "source": [
        "At a given step, If `b > a`, then `b = a` because in this case `a mod(b) = a`\n",
        "\n",
        "The complexity of this algorithm is determined by the operation `b = a % b`.\n",
        "</br>\n",
        "Each iteration the size of b is reduced. So we know that the complexity is logarithmic.  \n",
        "We can deduce that the complexity depends on the parameters a and b.  \n",
        "Assuming a > b, the worst-case scenario occurs when a and b are consecutive Fibonacci numbers, giving the number of iterations to be log(b).  \n",
        "If b > a, then the modulus operation just inverts a and b. Thus `T(gcd(a,b)) ∈ O(log(min(a,b))`"
      ],
      "metadata": {
        "id": "O0Y-eMu4v77V"
      }
    },
    {
      "cell_type": "markdown",
      "source": [
        "That means that we are searching for a random value that has a GCD of 1 with φ(n).  \n",
        "To  find such a value, we can do the naive version that will give it to us if it exists :"
      ],
      "metadata": {
        "id": "4SbokVLmoe6p"
      }
    },
    {
      "cell_type": "code",
      "source": [
        "def find_e(phi_n,first_e):\n",
        "    e=first_e\n",
        "    while(pow(e,2)<phi_n):\n",
        "        if(gcd(e, phi_n)==1): \n",
        "            return e        \n",
        "        else:\n",
        "            e=e+1\n",
        "    return -1  \n",
        "\n",
        "#Using phi_n that we found earlier :\n",
        "first_e=4\n",
        "print(\"The value of e can be:\",find_e(phi_n,first_e))\n"
      ],
      "metadata": {
        "id": "0BzwUz-ypox0",
        "colab": {
          "base_uri": "https://localhost:8080/"
        },
        "outputId": "1ebdc21e-29b5-4dcd-c08a-63dc076e2c14"
      },
      "execution_count": null,
      "outputs": [
        {
          "output_type": "stream",
          "name": "stdout",
          "text": [
            "The value of e can be: 7\n"
          ]
        }
      ]
    },
    {
      "cell_type": "markdown",
      "source": [
        "If we want to measure the complexity of `find_e`, we need to keep in mind that it contains the function `gcd(a,b)` which has a `log(min(a,b))` complexity.\n",
        "\n",
        "Here, in the worst-case, we are doing this iteration `phi_n - first_e` times (if we take the smallest first_e possible and we can't find an e).  \n",
        "We can tell that we are doing this aproximatively `phi_n` times.</br>\n",
        "So we have `T(find_e(phi_n,first_e))=n*log(n)+n ∈ O(phi_n*log(min(e, phi_n)))`\n",
        "\n",
        "</br>\n",
        "\n",
        "However, it is worth noting that here we look for the smallest value of `e`, but to increase the security of the encryption and the amount of time needed to break it, we need to increase the value of `e`.\n",
        "\n",
        "</br>\n",
        "\n"
      ],
      "metadata": {
        "id": "zhPUchx73hdB"
      }
    },
    {
      "cell_type": "markdown",
      "source": [
        "### The magic exponent e = 65537"
      ],
      "metadata": {
        "id": "27hkIAp_2FPg"
      }
    },
    {
      "cell_type": "markdown",
      "source": [
        "Any web browser allows the user to view the HTTPS certificate used for secure connection to a website.  \n",
        "By checking the HTTPS certificate's RSA key, it is possible to get a 2048 bits long number n and a public exponent e.</br>\n",
        "Interestingly the public exponent e is almost always the same, the hexadecimal number `010001` which is equal to `65537` in decimal.\n",
        "\n",
        "</br>\n",
        "\n",
        "Why this number ?:\n",
        "\n",
        "1.   65537 is a prime number\n",
        "2.   It is a Fermat Number, a number that can be written in the form $2^{2n} + 1$\n",
        "3.   It is the biggest number that verifies both properties\n",
        "\n",
        "\n",
        "\n",
        "Because it is prime, it can be used in RSA. Moreover, it is a relatively big exponent, making it more difficult to brute-force to find the private exponent.\n",
        "And... its binary representation is `10000000000000001` which makes calculations fast and easy using the `Right-to-left binary` method.\n",
        "\n",
        "</br>\n",
        "\n",
        "This means that a website could use 65537 as a choice for e and it will work almost every time.\n",
        "\n",
        "\n",
        "\n"
      ],
      "metadata": {
        "id": "IxlDUkdv38yd"
      }
    },
    {
      "cell_type": "markdown",
      "source": [
        "## **5. Finding the decryption exponent d**"
      ],
      "metadata": {
        "id": "vq9_C677KB4t"
      }
    },
    {
      "cell_type": "markdown",
      "source": [
        "At this stage of the protocol, we have the numbers p, q, n and e.  \n",
        "The numbers n and e are the two elements of the public key. We now need to find d for our private key to be complete.  \n",
        "\n",
        "To do so, we need to find d such that $d*e ≡ 1\\mod \\Phi(n)$. This means that d is equal to modular inverse of $e\\mod \\Phi(n)$."
      ],
      "metadata": {
        "id": "Xd_fH63_KIes"
      }
    },
    {
      "cell_type": "code",
      "source": [
        "def extended_euclid_algorithm(phi_n, e):\n",
        "    r, r_prev = phi_n, e\n",
        "    v, v_prev = 0, 1\n",
        "\n",
        "    while r_prev != 0:\n",
        "        quotient = r // r_prev\n",
        "        r, r_prev = r_prev, r - quotient * r_prev\n",
        "        v, v_prev = v_prev, v - quotient * v_prev\n",
        "\n",
        "    return v % phi_n if r == 1 else None\n",
        "#Using small values as an example : \n",
        "val_e = 7\n",
        "val_phi_n = 789\n",
        "val_d = extended_euclid_algorithm(val_phi_n, val_e)\n",
        "print(f\"For e = {val_e} and phi_n = {val_phi_n} we have d = {val_d}\")\n",
        "\n",
        "#We can check that d*e mod phi_n = 1 :\n",
        "print(val_d*val_e%val_phi_n)"
      ],
      "metadata": {
        "id": "cMxdU5WoD68q",
        "colab": {
          "base_uri": "https://localhost:8080/"
        },
        "outputId": "f1356b19-03e9-4e54-d06a-6abe2bdf6850"
      },
      "execution_count": null,
      "outputs": [
        {
          "output_type": "stream",
          "name": "stdout",
          "text": [
            "For e = 7 and phi_n = 789 we have d = 451\n",
            "1\n"
          ]
        }
      ]
    },
    {
      "cell_type": "markdown",
      "source": [
        "We can search the complexity of that algorithm:\n",
        "\n",
        "The calculation of the complexity is almost the same as the  one seen in the GCD part. We are just doing 2 times the number of operations because we do it in one way and in the other way.\n",
        "\n",
        "That means that the θ-notation will be the same: `T(extended_euclid_algorithm(e,phi_e)) ∈ O(log(min(e,phi_e)) `"
      ],
      "metadata": {
        "id": "zDP8zznsOw8-"
      }
    },
    {
      "cell_type": "markdown",
      "source": [
        "## **6. Secure communication using RSA**"
      ],
      "metadata": {
        "id": "NhdK13aGX8Rt"
      }
    },
    {
      "cell_type": "code",
      "source": [
        "#============================= Choose a message ============================\n",
        "m=5101458\n",
        "print(\"Alice wants to send the following message to Bob :\", m)\n",
        "\n",
        "#=================================== Bob ===================================\n",
        "\n",
        "\n",
        "# 1.Choose P and Q\n",
        "print(\"\\nBob generates two big prime numbers to create his public and private keys :\")\n",
        "p = generate_prime_little_Fermat_pow_mod(60)\n",
        "q = generate_prime_little_Fermat_pow_mod(60)\n",
        "print(\"p = \",p)\n",
        "print(\"q = \",q)\n",
        "\n",
        "\n",
        "# 2. Compute n=p*q:\n",
        "print(\"\\nBy multiplying those two numbers, Bob gets the number n :\")\n",
        "nb=p*q\n",
        "print(\"n=p*q =\",n)\n",
        "print()\n",
        "\n",
        "#3 Compute the value of phi(n) such that phi(n) =(p-1)(q-1)\n",
        "print(\"\\nBob then calculates the value of φ(n) = (p-1)(q-1) :\")\n",
        "phi_nb=(p-1)*(q-1)\n",
        "print(\"φ(n)=\",phi_nb)\n",
        "print()\n",
        "\n",
        "#4 Find e:\n",
        "print(\"\\nUsing the previous numbers, Bob generates the number e that is coprime with φ(n) :\")\n",
        "eb=find_e(phi_nb, 54)\n",
        "print(\"eb =\",eb)\n",
        "\n",
        "#5 Compute the value of d:\n",
        "print(\"\\nBob now needs to compute db, the modular inverse of eb :\")\n",
        "db= extended_euclid_algorithm(phi_nb, eb)\n",
        "print(\"db =\",db)\n",
        "\n",
        "print(f\"\\n\\nBob now sends his public key (eb, nb) to Alice.\")\n",
        "print(\"He keeps his private key (db, p, q) safe so that he is the only one able to decrypt what Alice sent him.\")\n",
        "#=================================== Alice ===================================\n",
        "\n",
        "print(\"\\nAlice receives Bob's public key and encrypts the message she wants to send :\")\n",
        "\n",
        "#Alice wants to send m to bob. All she has to do is compute y = m^e mod(n) because she knows the public keys of Bob which are eb and n\n",
        "y = pow_mod(m, eb,nb)\n",
        "print(\"Alice sends the encrypted message :\", y)\n",
        "\n",
        "#==================================== Bob ====================================\n",
        "\n",
        "print(\"\\nBob receives the encrypted message and uses his private key to decrypt it.\")\n",
        "\n",
        "#Now all that Bob has to do is to compute mdc = mc^d mod(n) with d his private key\n",
        "x = pow_mod(y, db,nb)\n",
        "print(\"Bob reads the message :\", x)"
      ],
      "metadata": {
        "colab": {
          "base_uri": "https://localhost:8080/"
        },
        "id": "OyVKc563j3fy",
        "outputId": "fad6a8f0-ce84-48fe-af48-d331ef4d82d7"
      },
      "execution_count": null,
      "outputs": [
        {
          "output_type": "stream",
          "name": "stdout",
          "text": [
            "Alice wants to send the following message to Bob : 5101458\n",
            "\n",
            "Bob generates two big prime numbers to create his public and private keys :\n",
            "p =  8524999386779360505922121399973310432073233339480542611814751\n",
            "q =  7693755753285844736537498639600938481041636143835187761437371\n",
            "\n",
            "By multiplying those two numbers, Bob gets the number n :\n",
            "n=p*q = 7944096927660155098903306836573419939496843033938594494598210681521023826131759109531849606251966999882824666733669121309\n",
            "\n",
            "\n",
            "Bob then calculates the value of φ(n) = (p-1)(q-1) :\n",
            "φ(n)= 65589263078792003237795595858065947458949236228163339117335344019880708505496173817347471060805039773224508121404167207500\n",
            "\n",
            "\n",
            "Using the previous numbers, Bob generates the number e that is coprime with φ(n) :\n",
            "eb = 59\n",
            "\n",
            "Bob now needs to compute db, the modular inverse of eb :\n",
            "db = 4446729700257084965274277685292606607386388896824633160497311458974963288508215174057455665139324730388102245518926590339\n",
            "\n",
            "\n",
            "Bob now sends his public key (eb, nb) to Alice.\n",
            "He keeps his private key (db, p, q) safe so that he is the only one able to decrypt what Alice sent him.\n",
            "\n",
            "Alice receives Bob's public key and encrypts the message she wants to send :\n",
            "Alice sends the encrypted message : 42614601359166251492813599576152136054971684932495418080287522192244363779086926501439088769951250556614018372800413961412\n",
            "\n",
            "Bob receives the encrypted message and uses his private key to decrypt it.\n",
            "Bob reads the message : 5101458\n"
          ]
        }
      ]
    },
    {
      "cell_type": "markdown",
      "source": [
        "If Bob wants to reply, Alice needs to do the same steps to generate her public and private keys so that Bob can encrypt his messages and Alice can decrypt them."
      ],
      "metadata": {
        "id": "xhohb1LQU-XK"
      }
    },
    {
      "cell_type": "markdown",
      "source": [
        "## **7. Complements**"
      ],
      "metadata": {
        "id": "9h1zOIAVTxWC"
      }
    },
    {
      "cell_type": "markdown",
      "source": [
        "The RSA protocol is used to provide secure communication, but additional steps are necessary to ensure security. There are many types of attacks that can be used to try to break the encryption or to intercept the communication, so it is important to verify the integrity of messages by signing them, as seen in the lecture.\n",
        "\n",
        "Furthermore, adding hashing to the message is another way to enhance security. By hashing the message, we can ensure that it cannot be modified in transit without detection, and even if an attacker intercepts the message, they cannot retrieve the original data from the hash as it designed to be computationnaly infeasable to reverse. Adding hashing to the message can make it even harder to break the encryption and it ensures the confidentiality, integrity, and authenticity of the communication.\n"
      ],
      "metadata": {
        "id": "kKMrLdI_U355"
      }
    }
  ]
}