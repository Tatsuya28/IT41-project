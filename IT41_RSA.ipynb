{
  "nbformat": 4,
  "nbformat_minor": 0,
  "metadata": {
    "colab": {
      "provenance": [],
      "include_colab_link": true
    },
    "kernelspec": {
      "name": "python3",
      "display_name": "Python 3"
    },
    "language_info": {
      "name": "python"
    }
  },
  "cells": [
    {
      "cell_type": "markdown",
      "metadata": {
        "id": "view-in-github",
        "colab_type": "text"
      },
      "source": [
        "<a href=\"https://colab.research.google.com/github/Tatsuya28/IT41-project/blob/main/IT41_RSA.ipynb\" target=\"_parent\"><img src=\"https://colab.research.google.com/assets/colab-badge.svg\" alt=\"Open In Colab\"/></a>"
      ]
    },
    {
      "cell_type": "markdown",
      "source": [
        "# IT41 project: RSA Cryptosystem \n",
        "\n",
        "Authors: \n",
        "+ Hakan Eraslan\n",
        "+ Thomas Fridblatt\n",
        "+ Jérémie Kimenau\n",
        "+ Eliséo Vardanega"
      ],
      "metadata": {
        "id": "P8g3dK63iT0a"
      }
    },
    {
      "cell_type": "markdown",
      "source": [
        "## Context"
      ],
      "metadata": {
        "id": "ycAK3ZZSjSpA"
      }
    },
    {
      "cell_type": "markdown",
      "source": [
        "The RSA cryptography system was invented in 1977 by three mathematicians: Ronald Rivest, Adi Shamir and Leonard Adleman.  \n",
        "RSA is an Asynchronous algorithm that we still use a lot in our current society because of its efficiency and its resistance against hacking (except quantum computing).\n",
        "These three mathematicians wanted to demonstrate that asynchronous cryptography couldn’t work, and they ended up creating RSA, an algorithm based on that principle that is still largely used nowadays (we estimate that approximatively 300 million programs use the RSA algorithm).\n",
        "\n",
        "<br/>\n",
        "\n",
        "RSA is using the benefits of the modulus calculus and the difficulty to factorize large prime numbers to find the elements to easily decode the algorithm, which makes it safe to use even in important places. It is also relatively easy to understand and to use because it uses simple arithmetic calculus.\n",
        "However, we can find some disadvantages, one of which are the large prime numbers to find (in principle more than 512 bits long by today's standards) for RSA to be secure.\n",
        "\n",
        "<br/>\n",
        "\n",
        "How does RSA work ?\n",
        "\n",
        "```\n",
        "1) Choose 2 very large prime numbers P and Q\n",
        "2) Compute n = PQ\n",
        "3) Compute φ(n) = (p - 1)(q - 1) (Euler's totient function)\n",
        "4) Choose a prime number e such that e is coprime with φ(n)\n",
        "5) Calculate d such that it satifies the congruence : d.e  ≡ 1 mod n\n",
        "```\n",
        "<br/>\n",
        "\n",
        "In RSA, each recipient has 2 different keys used for secure communications:\n",
        "\n",
        "*   A public key used by others to send him an encrypted message which consists of n and e\n",
        "*   A private key made of P, Q and d for him to decrypt the messages he receives\n",
        "\n",
        "\n",
        "<br/>\n",
        "\n",
        "\n",
        "How do we use the private key and the public key ?\n",
        "\n",
        "- Bob has respectively the following  public key and private key: ($e_{b}$, $n_{b}$) and ($d_{b}$)\n",
        "- Alice has respectively the following  public key and private key ($e_{a}$, $n_{a}$) and ($d_{a}$)\n",
        "\n",
        "<br/>\n",
        "\n",
        "\n",
        "1.   Bob wants to send the message `Please, give me the answers of the Spring 2023 IT41 Midterm exam !` to Alice and wants it to be secret. Bob converts its message to its numerical equivalent and calls it `X`. Then he calculates the encrypted message `Y` by using the public key of Alice.\n",
        "\n",
        "\\begin{equation*}\n",
        "Y = X^{e_{a}} \\mod{n_{a}}\n",
        "\\end{equation*}\n",
        "\n",
        "2. Alice receives the message from Bob. She uses her private key, that she and only she knows, then calculates the reverse operation made by Bob\n",
        "\n",
        "\\begin{equation*}\n",
        "X = Y^{d_{a}} \\mod{n_{a}}\n",
        "\\end{equation*}\n",
        "\n",
        "<br/>\n",
        "\n",
        "What if someone reads Y\n",
        "\n",
        "\n",
        "... They will have a hard time finding X ! Why ?<br/>\n",
        "RSA is based on the fact that finding $d_{a}$ using Y is a difficult task in math. It would require factoring  $n_{a}$ as the product of two prime numbers which is impossible when working with huge numbers. This is the `discrete logarithm problem.\n",
        "\n"
      ],
      "metadata": {
        "id": "I_DEMU6eHgw6"
      }
    },
    {
      "cell_type": "markdown",
      "source": [
        "## 1. **How to compute large prime numbers P and Q**"
      ],
      "metadata": {
        "id": "BUDLIR7PLdcD"
      }
    },
    {
      "cell_type": "markdown",
      "source": [
        "The first approach uses the definition of a prime number ``a whole number greater than 1 that cannot be exactly divided by any whole number other than itself and 1`` ( 2, 3, 5, 7, 11 etc...).\n",
        "\n",
        "<br />\n",
        "\n",
        "We can use the \"Sieve of Eratosthenes\", a Greek mathematician from 2nd century BC, to generate a list of prime numbers.  \n",
        "In our case, we do not need a list, but simply two single prime numbers.\n",
        "\n",
        "<br />\n",
        "\n",
        "\n",
        "One could proceed like this to generate a random prime number:\n",
        "\n",
        "\n",
        "*   Pick a random number n (bigger than 10^60)\n",
        "*   Check every (odd) number from 3 to $\\sqrt{n}$ and check if it divides n. \n",
        "\n",
        "\n",
        "\n",
        "\n"
      ],
      "metadata": {
        "id": "-Z4vva7HLhPL"
      }
    },
    {
      "cell_type": "code",
      "source": [
        "import random\n",
        "import math\n",
        "\n",
        "\n",
        "def is_prime(n):\n",
        "    \"\"\"Checks if n is a prime number\"\"\"\n",
        "    if n == 2 or n == 3:\n",
        "        return True\n",
        "    if n < 2 or n % 2 == 0:\n",
        "        return False\n",
        "    for i in range(3, int(math.sqrt(n)) + 1, 2):\n",
        "        if n % i == 0:\n",
        "            return False\n",
        "    return True\n",
        "\n",
        "def generate_prime(n_digits):\n",
        "    \"\"\"Generates random numbers between 10^n_digits and 10^(n_digits+1) and returns it if it's prime\"\"\"\n",
        "    while True:\n",
        "        n = random.randint(10**n_digits, 10**(n_digits+1))\n",
        "        if is_prime(n):\n",
        "            return n\n"
      ],
      "metadata": {
        "id": "q892pK-0LjKR"
      },
      "execution_count": null,
      "outputs": []
    },
    {
      "cell_type": "markdown",
      "source": [
        "We can very easily check that `is_prime(n)` is linear with respect to `√n`, namely `T(is_prime(n)) ∈ O(√n)`. The `generate_prime()` function's complexity would be at best `O(√n)` if the first number picked is prime. The average and worst complexity is `O(s√n)` where `s` corresponds to the amount of numbers picked that were not prime.\n",
        "\n",
        "</br>\n",
        "\n",
        "Now, imagine that the computer can run `N` operations per second. Assuming $N = 10^{9}$, how fast could could it generate a prime number in the best-case scenario ?\n",
        "\n",
        "</br>\n",
        "\n",
        "\n",
        "\\begin{align*}\n",
        "\\text{generate_prime} \\in \\mathcal{O}(\\sqrt{n}) &\\Leftrightarrow T(\\text{generate_prime}(N)) \\leq c\\sqrt{N} \\\\\n",
        "&\\Leftrightarrow c = \\frac{T(\\text{generate_prime}(N))}{\\sqrt{N}} \\\\\n",
        "&T(\\text{generate_prime}(n)) = \\frac{T(\\text{generate_prime}(N))}{\\sqrt{N}} \\times \\sqrt{n} \\\\\n",
        "&\\Leftrightarrow T(\\text{generate_prime}(n)) = \\frac{1}{10^9} \\times \\sqrt{10^{60}} = 10^{21} \\text{s} \\approx 317{,}097{,}919{,}837{,}646 \\text{ years}\n",
        "\\end{align*}\n",
        "\n",
        "</br>\n",
        "\n",
        "This results is equal to many times the age of the universe so this clearly is not a viable strategy to generate a prime number this big.  \n",
        "\n",
        "</br>\n",
        "\n",
        "This is where Pierre de Fermat who was a lawyer and also a French mathematician in the 17th century comes into play.\n",
        "\n",
        "What we are interested in is `Fermat's little theorem` which states that for any given integer $a$, if $p$ is *pseudo-prime*, then the following statement is true:\n",
        "$$a^{p-1} \\equiv 1 \\pmod{p}$$\n",
        "\n",
        "\n",
        "</br>\n",
        "\n",
        "\n",
        "This primality test can generate ``pseudo-prime`` numbers. A **pseudo-prime** is a probable prime (an integer that shares a property common to all prime numbers) that is not actually prime. For RSA however, we need actual prime numbers. For this example we are going to implement the Fermat Primality Test, but in reality life, it is important to use multiple tests (eg: Miller-Rabin / Lucas) to eliminate the pseudo-prime numbers.\n",
        "\n",
        "</br>\n",
        "  \n",
        "In python, we can use the following code to do implement this approach :\n"
      ],
      "metadata": {
        "id": "ovrUqXhPLpL7"
      }
    },
    {
      "cell_type": "code",
      "source": [
        "def power(a,n):\n",
        "    res = 1\n",
        "    for i in range(n):\n",
        "        res = res*a\n",
        "    return res\n",
        "\n",
        "def generate_prime_little_Fermat(n_digits):\n",
        "    a = 2\n",
        "    while True:\n",
        "        p = random.randint(10**n_digits, 10**(n_digits+1)) #Generate a random integer between min and max\n",
        "        if (power(a,p-1)%p)==1: #We check that a^(p-1) is equal to 1 mod p\n",
        "            return p"
      ],
      "metadata": {
        "id": "pm75e1WlLtj7"
      },
      "execution_count": null,
      "outputs": []
    },
    {
      "cell_type": "markdown",
      "source": [
        "Technically, this is the required algorithm. However, if p is huge which means 10^n_digits is huge too, the computer cannot run the calculations as `a^(p-1)` would be excruciatingly long to compute.\n",
        "\n",
        "</br>\n",
        "\n",
        "Instead of using `power(a,p-1)%p` to check if $a^{p-1} \\equiv 1 \\mod{p}$, we can use what is called the \"Right-to-left binary method\" described by Bruce Schneier in 1993 in *Applied Cryptography*.  \n",
        "\n",
        "The algorithm works as follows:\n",
        "\n",
        "*   Convert the exponent to binary representation.\n",
        "*   Start with the least significant bit of the binary representation.\n",
        "*   If the current bit is 1, multiply the result by the base and take the result modulo the modulus.\n",
        "*   Square the base and take the result modulo the modulus.\n",
        "*   Move to the next bit in the binary representation.\n",
        "*   Repeat steps 3-5 until all bits have been processed."
      ],
      "metadata": {
        "id": "dGIN-oY9Lv7T"
      }
    },
    {
      "cell_type": "code",
      "source": [
        "def pow_mod(x, y, z):\n",
        "    number = 1\n",
        "    while y != 0:\n",
        "        if y % 2 == 1: #Check the least significant bit of the binary representation.\n",
        "            number = (number*x)%z\n",
        "        y = y // 2 #Shift to the next bit by integer division.\n",
        "        x = (x*x)%z\n",
        "    return number"
      ],
      "metadata": {
        "id": "03oK3OMLLyIT"
      },
      "execution_count": null,
      "outputs": []
    },
    {
      "cell_type": "markdown",
      "source": [
        "Let's prove the correctness of this algorithm:\n",
        "</br>\n",
        "</br>\n",
        "</br>\n",
        "</br>\n",
        "</br>\n",
        "\n",
        "-------------------------\n",
        "\n",
        "What is the complexity of the algorithm ?\n",
        "\n",
        "The while loop stops when y = 0. Each iteration, y is divided (using integer division) by 2 and because y is an integer, it will reach 0 at some point.\n",
        "From this we conclude that the algorithm is logarithmic with resoect to the exponent y. `T(pow_mod) ∈ O(log(y))`\n",
        "\n",
        "-------------------------"
      ],
      "metadata": {
        "id": "BPuKuls3L2_r"
      }
    },
    {
      "cell_type": "markdown",
      "source": [
        "By using the fast modular exponentiation and the Little Fermat's Theorem, we can rewrite our final algorithm as:"
      ],
      "metadata": {
        "id": "wzU_RVNsCouI"
      }
    },
    {
      "cell_type": "code",
      "source": [
        "def generate_prime_little_Fermat_pow_mod(n_digits):\n",
        "    a = 2\n",
        "    while True:\n",
        "        p = random.randint(10**n_digits, 10**(n_digits+1))\n",
        "        if pow_mod(a, p-1, p) == 1:\n",
        "            return p"
      ],
      "metadata": {
        "id": "bh_nA4F0Cm4K"
      },
      "execution_count": null,
      "outputs": []
    },
    {
      "cell_type": "markdown",
      "source": [
        "Let's benchmark the function that uses the Little Fermat's Theorem to see how efficient it is:"
      ],
      "metadata": {
        "id": "41yGxkS7Aci4"
      }
    },
    {
      "cell_type": "code",
      "source": [
        "import matplotlib.pyplot as plt\n",
        "import time \n",
        "\n",
        "# Benchmark of the three functions to generate prime numbers\n",
        "naive_generation = []\n",
        "little_Fermat = []\n",
        "little_Fermat_pow_mod = []\n",
        "for number in range(0, 15):\n",
        "    start_time = time.time()\n",
        "    generate_prime(number)\n",
        "    end_time = time.time()\n",
        "    naive_time = end_time - start_time\n",
        "    naive_generation.append(naive_time)\n",
        "\n",
        "    if number < 5:\n",
        "        start_time = time.time()\n",
        "        generate_prime_little_Fermat(number)\n",
        "        end_time = time.time()\n",
        "        little_Fermat_time = end_time - start_time\n",
        "        little_Fermat.append(little_Fermat_time)\n",
        "\n",
        "    start_time = time.time()\n",
        "    generate_prime_little_Fermat_pow_mod(number)\n",
        "    end_time = time.time()\n",
        "    little_Fermat_pow_mod_time = end_time - start_time\n",
        "    little_Fermat_pow_mod.append(little_Fermat_pow_mod_time)\n",
        "    print(f\"Size of the generated prime 10^{number}: Naive generation time: {naive_time:.6f}, Little Fermat time: {little_Fermat_time:.6f}, with fast modular exponentiation: {little_Fermat_pow_mod_time:.6f}\")\n",
        "\n",
        "# Plot the execution times\n",
        "plt.plot(range(0, 15), naive_generation, label=\"Naive generation\")\n",
        "plt.plot(range(0, 5), little_Fermat, label=\"Little Fermat\")\n",
        "plt.plot(range(0, 15), little_Fermat_pow_mod, label=\"Little Fermat modular exponentiaition\")\n",
        "plt.xlabel(\"number\")\n",
        "plt.ylabel(\"Time (seconds)\")\n",
        "plt.title(\"Benchmark of the 3 ways of generating prime numbers\")\n",
        "plt.legend()\n",
        "plt.show()"
      ],
      "metadata": {
        "colab": {
          "base_uri": "https://localhost:8080/",
          "height": 740
        },
        "id": "FNpUEYaSAh5e",
        "outputId": "b698c427-a8e9-40c0-9b0e-3db1f2fea6f5"
      },
      "execution_count": null,
      "outputs": [
        {
          "output_type": "stream",
          "name": "stdout",
          "text": [
            "Size of the generated prime 10^0: Naive generation time: 0.000024, Little Fermat time: 0.000009, with fast modular exponentiation: 0.000008\n",
            "Size of the generated prime 10^1: Naive generation time: 0.000027, Little Fermat time: 0.000030, with fast modular exponentiation: 0.000028\n",
            "Size of the generated prime 10^2: Naive generation time: 0.000015, Little Fermat time: 0.000159, with fast modular exponentiation: 0.000021\n",
            "Size of the generated prime 10^3: Naive generation time: 0.000024, Little Fermat time: 0.014779, with fast modular exponentiation: 0.000068\n",
            "Size of the generated prime 10^4: Naive generation time: 0.000037, Little Fermat time: 1.165726, with fast modular exponentiation: 0.000320\n",
            "Size of the generated prime 10^5: Naive generation time: 0.000068, Little Fermat time: 1.165726, with fast modular exponentiation: 0.000057\n",
            "Size of the generated prime 10^6: Naive generation time: 0.000191, Little Fermat time: 1.165726, with fast modular exponentiation: 0.000182\n",
            "Size of the generated prime 10^7: Naive generation time: 0.000222, Little Fermat time: 1.165726, with fast modular exponentiation: 0.000046\n",
            "Size of the generated prime 10^8: Naive generation time: 0.001854, Little Fermat time: 1.165726, with fast modular exponentiation: 0.000048\n",
            "Size of the generated prime 10^9: Naive generation time: 0.013439, Little Fermat time: 1.165726, with fast modular exponentiation: 0.000633\n",
            "Size of the generated prime 10^10: Naive generation time: 0.030792, Little Fermat time: 1.165726, with fast modular exponentiation: 0.000715\n",
            "Size of the generated prime 10^11: Naive generation time: 0.056205, Little Fermat time: 1.165726, with fast modular exponentiation: 0.000998\n",
            "Size of the generated prime 10^12: Naive generation time: 0.125167, Little Fermat time: 1.165726, with fast modular exponentiation: 0.000945\n",
            "Size of the generated prime 10^13: Naive generation time: 0.431816, Little Fermat time: 1.165726, with fast modular exponentiation: 0.000478\n",
            "Size of the generated prime 10^14: Naive generation time: 0.859026, Little Fermat time: 1.165726, with fast modular exponentiation: 0.000049\n"
          ]
        },
        {
          "output_type": "display_data",
          "data": {
            "text/plain": [
              "<Figure size 640x480 with 1 Axes>"
            ],
            "image/png": "[encoded data removed]"
          },
          "metadata": {}
        }
      ]
    },
    {
      "cell_type": "markdown",
      "source": [
        "Moreover, we need to take into consideration the way we generate the number p. This operation has a cost which is proportionnal to how big the number we want to generate is. Maybe there exist a more optimised way of picking a random number.\n"
      ],
      "metadata": {
        "id": "G4pvLukNA5It"
      }
    },
    {
      "cell_type": "markdown",
      "source": [
        "#2. Compute n = PQ"
      ],
      "metadata": {
        "id": "XG8nMbrHFGXn"
      }
    },
    {
      "cell_type": "markdown",
      "source": [
        "Nothing fancy here. We generate P, Q and do the product. A real child's play for the computer (the CPU has the multiplication operation embedded)"
      ],
      "metadata": {
        "id": "u66XguZwFNke"
      }
    },
    {
      "cell_type": "code",
      "source": [
        "p = generate_prime3(60)[0]\n",
        "q = generate_prime3(60)[0]\n",
        "n = p*q\n",
        "print(n)"
      ],
      "metadata": {
        "id": "WDfQdgCcFi_d"
      },
      "execution_count": null,
      "outputs": []
    },
    {
      "cell_type": "markdown",
      "source": [
        "#3. Compute φ(n) = (p - 1)(q - 1) (Euler's totient function)"
      ],
      "metadata": {
        "id": "WGwRT8W7GkPU"
      }
    },
    {
      "cell_type": "markdown",
      "source": [
        "You are a professional now. You can easily guess what code is next."
      ],
      "metadata": {
        "id": "_ona1qajGn3r"
      }
    },
    {
      "cell_type": "code",
      "source": [
        "p = generate_prime3(60)[0]\n",
        "q = generate_prime3(60)[0]\n",
        "n = p*q\n",
        "phi_n = (p-1)*(q-1)\n",
        "print(\"  n  =\", n)\n",
        "print(\"φ(n) =\", phi_n)"
      ],
      "metadata": {
        "id": "LoahoiTqHvhS"
      },
      "execution_count": null,
      "outputs": []
    },
    {
      "cell_type": "markdown",
      "source": [
        "Now, the first part of the public key is generated. However, step 4 requires generating a prime number e which is coprime with ϕ(n)."
      ],
      "metadata": {
        "id": "5EQKvreBH99w"
      }
    },
    {
      "cell_type": "markdown",
      "source": [
        "#4. Choose a prime number e such that e is coprime with φ(n)"
      ],
      "metadata": {
        "id": "33_ntkkbJwAW"
      }
    },
    {
      "cell_type": "markdown",
      "source": [
        "##Using the regular method"
      ],
      "metadata": {
        "id": "yZH1RGfQ18Jw"
      }
    },
    {
      "cell_type": "markdown",
      "source": [
        "Two numbers a and b are coprimes if their Greatest Common Divisor GCD is one.\n",
        "</br>\n",
        "It can be obtained by applying the [Euclid's Algorithm](https://en.wikipedia.org/wiki/Euclidean_algorithm) made by the Greek mathematician Euclid who lived 300BC. It can be implemented as follows:"
      ],
      "metadata": {
        "id": "cIa_0QjGKG4d"
      }
    },
    {
      "cell_type": "code",
      "source": [
        "def gcd(a, b):\n",
        "    while b != 0:\n",
        "        t = b\n",
        "        b = a % b\n",
        "        a = t\n",
        "    return a\n",
        "\n",
        "a = 333\n",
        "b = 3\n",
        "print(\"The gcd of\", a, \"and\", b, \"is\", gcd(a,b))"
      ],
      "metadata": {
        "id": "9BL2hO2FuUt9"
      },
      "execution_count": null,
      "outputs": []
    },
    {
      "cell_type": "markdown",
      "source": [
        "At a given step, If `b > a`, then `b = a` because in this case `a mod(b) = a`\n",
        "\n",
        "The complexity of this algorithm is determined by the operation `b = a % b`.\n",
        "</br>\n",
        "Each iteration the size of b is reduced. So we know that the complexity would be logarithmic. We can deduce that the complexity depends on the parameters a and b. Assuming a > b, the worst-case scenario occurs when a and b are consecutive Fibonacci numbers, giving the number of iterations to be log(b). If b > a, then the modulus operation just inverts a and b. Thus `T(gcd(a,b)) ∈ O(log(min(a,b))`"
      ],
      "metadata": {
        "id": "O0Y-eMu4v77V"
      }
    },
    {
      "cell_type": "markdown",
      "source": [
        "That means that we are searching for a random value that have a pgcd of 1 with φ. To  find such a value, we can do the naive version that will provide us a value, if it exists that checks what we want: "
      ],
      "metadata": {
        "id": "4SbokVLmoe6p"
      }
    },
    {
      "cell_type": "code",
      "source": [
        "def find_e(phi_n,first_e):\n",
        "    e=first_e\n",
        "    while(pow(e,2)<phi_n):\n",
        "        if(gcd(e, phi_n)==1): \n",
        "            return e        \n",
        "        else:\n",
        "            e=e+1\n",
        "    return -1  \n",
        "\n",
        "phi_n=2941118472449507032646109278075334883244063122124271924290109236219743252939363726450480160657162915398332737546285631340\n",
        "first_e=4\n",
        "print(\"the value of e can be:\",find_e(phi_n,first_e))\n"
      ],
      "metadata": {
        "id": "0BzwUz-ypox0"
      },
      "execution_count": null,
      "outputs": []
    },
    {
      "cell_type": "markdown",
      "source": [
        "If we want to measure the complexity of find_e, we need to keep in mind that it contains the function `gcd(a,b)` which has a `log(min(a,b))` complexity.\n",
        "\n",
        "Here we are doing this iteration in the worst case (if we take the smallest first_e possible and we can't find an e ) `phi_n - first_e` times. We can tell that we are doing this aproximatively phi_n times.</br>\n",
        "So we have `T(find_e(phi_n,first_e))=n*log(n)+n ∈ O(phi_n*log(min(e, phi_n)))`\n",
        "\n",
        "</br>\n",
        "\n",
        "However, it is worth saying that here we look for the smallest e value, but e should be a bit bigger for more security.\n",
        "\n",
        "</br>\n",
        "\n"
      ],
      "metadata": {
        "id": "zhPUchx73hdB"
      }
    },
    {
      "cell_type": "markdown",
      "source": [
        "##The magic exponent e = 65537"
      ],
      "metadata": {
        "id": "27hkIAp_2FPg"
      }
    },
    {
      "cell_type": "markdown",
      "source": [
        "Any web browser allows the user to view the https certificat used for secure connexions a to a website. By checking RSA, it is possible to get a 2048 bits long number n and a public exponent e.</br>\n",
        "Interestingly the public exponent e is almost always the same, the hexadecimal number `010001 = 65537` !\n",
        "\n",
        "</br>\n",
        "\n",
        "What are the properties of this number ?:\n",
        "\n",
        "```\n",
        "1.   It is a prime number\n",
        "2.   It is a Fermat Number, a number that can be written like 2^(2n)+1\n",
        "3.   It is the biggest number that verifies both properties\n",
        "\n",
        "```\n",
        "\n",
        "Because it is prime, it can be used in RSA. Moreover, it is a relatively big exponent, making it more difficult to bruteforce to find the private exponent.\n",
        "And... Its binary representation is `10000000000000001` which makes calculations fact and easy using the `Right-to-left binary` method.\n",
        "\n",
        "</br>\n",
        "\n",
        "This means that a website could use 65537 as a choice for e and it will work almost every time.\n",
        "\n",
        "\n",
        "\n"
      ],
      "metadata": {
        "id": "IxlDUkdv38yd"
      }
    },
    {
      "cell_type": "markdown",
      "source": [
        "#5.Calculate d such that it satifies the congruence : d.e  ≡ 1 mod n"
      ],
      "metadata": {
        "id": "vq9_C677KB4t"
      }
    },
    {
      "cell_type": "markdown",
      "source": [
        "Now that we have n and e, the two elements of the public key, we need to find d, the private coefficient such that d.e ≡ mod n"
      ],
      "metadata": {
        "id": "Xd_fH63_KIes"
      }
    },
    {
      "cell_type": "code",
      "source": [
        "def extended_euclid_algorithm(e, phi_n):\n",
        "    r, r_prev = e, phi_n\n",
        "    v, v_prev = 0, 1\n",
        "\n",
        "    while r_prev != 0:\n",
        "        quotient = r // r_prev\n",
        "        r, r_prev = r_prev, r - quotient * r_prev\n",
        "        v, v_prev = v_prev, v - quotient * v_prev\n",
        "\n",
        "    return v % e if r == 1 else None\n",
        "\n",
        "e=7\n",
        "phi_n=789\n",
        "\n",
        "#print(\"the value of d for e=\",e,\", phi_n=\",phi_n,\"is equal to :\",extended_euclid_algorithm(e,phi_n))\n",
        "print(f\"the value of d for e= {e}, phi_n={phi_n} is equal to : {extended_euclid_algorithm(e, phi_n)}\")"
      ],
      "metadata": {
        "id": "cMxdU5WoD68q"
      },
      "execution_count": null,
      "outputs": []
    },
    {
      "cell_type": "markdown",
      "source": [
        "We can search the complexity of that algorithm:\n",
        "\n",
        "The calculation of the complexity is practicly the same as the  one seen in the GCD part. We are just doing 2 times the number of operations because we do it in one way and in the other way.\n",
        "\n",
        "That means that the θnotation will be the same: `T(extended_euclid_algorithm(e,phi_e)) ∈ O(log(min(e,phi_e)) `"
      ],
      "metadata": {
        "id": "zDP8zznsOw8-"
      }
    },
    {
      "cell_type": "code",
      "source": [],
      "metadata": {
        "id": "pubVJUXcO1MX"
      },
      "execution_count": null,
      "outputs": []
    }
  ]
}